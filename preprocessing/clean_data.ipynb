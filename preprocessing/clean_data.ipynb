{
 "cells": [
  {
   "cell_type": "code",
   "execution_count": null,
   "metadata": {
    "vscode": {
     "languageId": "plaintext"
    }
   },
   "outputs": [],
   "source": [
    "#smaple code for cleaning\n",
    "\n",
    "import pymongo\n",
    "import pandas as pd\n",
    "\n",
    "# Connect to MongoDB\n",
    "client = pymongo.MongoClient(\"mongodb://localhost:27017/\")\n",
    "db = client[\"sample_mflix\"]\n",
    "\n",
    "# Load the movies collection into a DataFrame\n",
    "movies_collection = db[\"movies\"]\n",
    "movies_data = list(movies_collection.find())\n",
    "\n",
    "# Convert to DataFrame for cleaning\n",
    "movies_df = pd.DataFrame(movies_data)\n",
    "\n",
    "# Inspect the data\n",
    "movies_df.head()\n",
    "\n",
    "# Example cleaning steps\n",
    "movies_df[\"plot\"].fillna(\"\", inplace=True)  # Fill missing plots with empty string\n",
    "movies_df[\"title\"] = movies_df[\"title\"].str.strip()  # Remove whitespace from titles\n",
    "\n",
    "# Further data cleaning steps...\n"
   ]
  }
 ],
 "metadata": {
  "language_info": {
   "name": "python"
  }
 },
 "nbformat": 4,
 "nbformat_minor": 2
}
